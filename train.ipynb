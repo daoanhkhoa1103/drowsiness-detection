{
  "cells": [
    {
      "cell_type": "code",
      "execution_count": 1,
      "metadata": {
        "colab": {
          "base_uri": "https://localhost:8080/"
        },
        "id": "SEeloPJuqMaf",
        "outputId": "dc14fcf4-d5b9-4fdb-903d-7f82ddc039ba"
      },
      "outputs": [
        {
          "name": "stdout",
          "output_type": "stream",
          "text": [
            "Mon Oct 24 06:56:51 2022       \n",
            "+-----------------------------------------------------------------------------+\n",
            "| NVIDIA-SMI 460.32.03    Driver Version: 460.32.03    CUDA Version: 11.2     |\n",
            "|-------------------------------+----------------------+----------------------+\n",
            "| GPU  Name        Persistence-M| Bus-Id        Disp.A | Volatile Uncorr. ECC |\n",
            "| Fan  Temp  Perf  Pwr:Usage/Cap|         Memory-Usage | GPU-Util  Compute M. |\n",
            "|                               |                      |               MIG M. |\n",
            "|===============================+======================+======================|\n",
            "|   0  Tesla T4            Off  | 00000000:00:04.0 Off |                    0 |\n",
            "| N/A   64C    P8    10W /  70W |      0MiB / 15109MiB |      0%      Default |\n",
            "|                               |                      |                  N/A |\n",
            "+-------------------------------+----------------------+----------------------+\n",
            "                                                                               \n",
            "+-----------------------------------------------------------------------------+\n",
            "| Processes:                                                                  |\n",
            "|  GPU   GI   CI        PID   Type   Process name                  GPU Memory |\n",
            "|        ID   ID                                                   Usage      |\n",
            "|=============================================================================|\n",
            "|  No running processes found                                                 |\n",
            "+-----------------------------------------------------------------------------+\n"
          ]
        }
      ],
      "source": [
        "!nvidia-smi"
      ]
    },
    {
      "cell_type": "code",
      "execution_count": 2,
      "metadata": {
        "colab": {
          "base_uri": "https://localhost:8080/"
        },
        "id": "DNmMJvTsqQrD",
        "outputId": "ba8f07f7-108b-4dfe-d86c-54ddd87dd814"
      },
      "outputs": [
        {
          "name": "stdout",
          "output_type": "stream",
          "text": [
            "/content/drive/MyDrive/Eye_alert\n"
          ]
        }
      ],
      "source": [
        "cd /content/drive/MyDrive/Eye_alert/"
      ]
    },
    {
      "cell_type": "code",
      "execution_count": 41,
      "metadata": {
        "colab": {
          "base_uri": "https://localhost:8080/"
        },
        "id": "s6ubjtur22s7",
        "outputId": "5e042442-7271-4fdd-835c-443b831244cc"
      },
      "outputs": [
        {
          "name": "stdout",
          "output_type": "stream",
          "text": [
            "Looking in indexes: https://pypi.org/simple, https://us-python.pkg.dev/colab-wheels/public/simple/\n",
            "Collecting mediapipe\n",
            "  Downloading mediapipe-0.8.11-cp37-cp37m-manylinux_2_17_x86_64.manylinux2014_x86_64.whl (31.5 MB)\n",
            "\u001b[K     |████████████████████████████████| 31.5 MB 1.6 MB/s \n",
            "\u001b[?25hRequirement already satisfied: attrs>=19.1.0 in /usr/local/lib/python3.7/dist-packages (from mediapipe) (22.1.0)\n",
            "Requirement already satisfied: opencv-contrib-python in /usr/local/lib/python3.7/dist-packages (from mediapipe) (4.6.0.66)\n",
            "Requirement already satisfied: protobuf<4,>=3.11 in /usr/local/lib/python3.7/dist-packages (from mediapipe) (3.17.3)\n",
            "Requirement already satisfied: matplotlib in /usr/local/lib/python3.7/dist-packages (from mediapipe) (3.2.2)\n",
            "Requirement already satisfied: numpy in /usr/local/lib/python3.7/dist-packages (from mediapipe) (1.21.6)\n",
            "Requirement already satisfied: absl-py in /usr/local/lib/python3.7/dist-packages (from mediapipe) (1.3.0)\n",
            "Requirement already satisfied: six>=1.9 in /usr/local/lib/python3.7/dist-packages (from protobuf<4,>=3.11->mediapipe) (1.15.0)\n",
            "Requirement already satisfied: python-dateutil>=2.1 in /usr/local/lib/python3.7/dist-packages (from matplotlib->mediapipe) (2.8.2)\n",
            "Requirement already satisfied: pyparsing!=2.0.4,!=2.1.2,!=2.1.6,>=2.0.1 in /usr/local/lib/python3.7/dist-packages (from matplotlib->mediapipe) (3.0.9)\n",
            "Requirement already satisfied: cycler>=0.10 in /usr/local/lib/python3.7/dist-packages (from matplotlib->mediapipe) (0.11.0)\n",
            "Requirement already satisfied: kiwisolver>=1.0.1 in /usr/local/lib/python3.7/dist-packages (from matplotlib->mediapipe) (1.4.4)\n",
            "Requirement already satisfied: typing-extensions in /usr/local/lib/python3.7/dist-packages (from kiwisolver>=1.0.1->matplotlib->mediapipe) (4.1.1)\n",
            "Installing collected packages: mediapipe\n",
            "Successfully installed mediapipe-0.8.11\n"
          ]
        }
      ],
      "source": [
        "!pip install mediapipe"
      ]
    },
    {
      "cell_type": "code",
      "execution_count": 5,
      "metadata": {
        "id": "5ELbHXtSqQyn"
      },
      "outputs": [],
      "source": [
        "#import \n",
        "import cv2\n",
        "import torch\n",
        "import torch.nn as nn\n",
        "import torchvision\n",
        "import torchvision.transforms as transforms\n",
        "import torchvision.datasets as datasets\n",
        "import matplotlib.pyplot as plt \n",
        "import numpy as np\n",
        "import time\n",
        "from PIL import Image\n",
        "from torch.autograd import Variable"
      ]
    },
    {
      "cell_type": "code",
      "execution_count": null,
      "metadata": {
        "colab": {
          "base_uri": "https://localhost:8080/"
        },
        "id": "HoqBdBxSqQ6U",
        "outputId": "3cf13049-6b69-4bf1-bdd9-26f469bb1919"
      },
      "outputs": [
        {
          "name": "stdout",
          "output_type": "stream",
          "text": [
            "Train_set: 1958\n",
            "Validation_set: 560\n"
          ]
        }
      ],
      "source": [
        "#Transform and load dataset\n",
        "#Argument training_set by RandomResizedCrop, RandomHorizontalFlip\n",
        "#Normalize data: [-1, 1]\n",
        "transform_train = transforms.Compose([transforms.Resize((32, 32)),\n",
        "                                    transforms.RandomHorizontalFlip(p=0.5),\n",
        "                                    transforms.ColorJitter(brightness=0.3, contrast=0.1, saturation=0.1),\n",
        "                                    # transforms.RandomRotation(degrees=(0, 10)),\n",
        "                                    transforms.ToTensor(),\n",
        "                                    transforms.Normalize([0.5, 0.5, 0.5], [0.5, 0.5, 0.5])])\n",
        "\n",
        "transform_val = transforms.Compose([transforms.Resize((32, 32)),\n",
        "                                    transforms.ToTensor(),\n",
        "                                    transforms.Normalize([0.5, 0.5, 0.5], [0.5, 0.5, 0.5])])\n",
        "\n",
        "train_set = datasets.ImageFolder(root='./data/train', transform=transform_train)\n",
        "val_set = datasets.ImageFolder(root='./data/val', transform=transform_val)\n",
        "\n",
        "batch_size = 32\n",
        "train_load = torch.utils.data.DataLoader(dataset=train_set, batch_size=batch_size, shuffle=True)\n",
        "val_load = torch.utils.data.DataLoader(dataset=val_set, batch_size=batch_size, shuffle=False)\n",
        "\n",
        "print('Train_set:', len(train_set))\n",
        "print('Validation_set:', len(val_set))"
      ]
    },
    {
      "cell_type": "code",
      "execution_count": 6,
      "metadata": {
        "id": "_pwVIk-eyaVp"
      },
      "outputs": [],
      "source": [
        "#Transform and load dataset\n",
        "#Argument training_set by RandomResizedCrop, RandomHorizontalFlip\n",
        "#Normalize data: [-1, 1]\n",
        "transform_train = transforms.Compose([transforms.Resize((32, 32)),\n",
        "                                    transforms.RandomHorizontalFlip(p=0.5),\n",
        "                                    transforms.ColorJitter(brightness=0.3, contrast=0.1, saturation=0.1),\n",
        "                                    # transforms.RandomRotation(degrees=(0, 10)),\n",
        "                                    transforms.ToTensor(),\n",
        "                                    transforms.Normalize([0.5, 0.5, 0.5], [0.5, 0.5, 0.5])])\n",
        "\n",
        "transform_val = transforms.Compose([transforms.Resize((32, 32)),\n",
        "                                    transforms.ToTensor(),\n",
        "                                    transforms.Normalize([0.5, 0.5, 0.5], [0.5, 0.5, 0.5])])"
      ]
    },
    {
      "cell_type": "code",
      "execution_count": null,
      "metadata": {
        "colab": {
          "base_uri": "https://localhost:8080/",
          "height": 612
        },
        "id": "K9lFDUG-yded",
        "outputId": "b5ee285a-662e-48de-b374-d42823ec39b7"
      },
      "outputs": [
        {
          "data": {
            "image/png": "[encoded data removed]",
            "text/plain": [
              "<Figure size 1440x1440 with 1 Axes>"
            ]
          },
          "metadata": {
            "needs_background": "light"
          },
          "output_type": "display_data"
        }
      ],
      "source": [
        "#Show image in a batch\n",
        "def imgshow(img):\n",
        "    img = img/2 + 0.5 \n",
        "    np_img = img.numpy()\n",
        "    plt.figure(figsize=(20, 20))\n",
        "    plt.imshow(np.transpose(np_img, (1, 2, 0)))\n",
        "    plt.show()\n",
        "\n",
        "    \n",
        "data_iter = iter(train_load)\n",
        "img, labels = data_iter.next()\n",
        "imgshow(torchvision.utils.make_grid(img))"
      ]
    },
    {
      "cell_type": "code",
      "execution_count": 7,
      "metadata": {
        "id": "AmbZ1jBOydgw"
      },
      "outputs": [],
      "source": [
        "class CNN(nn.Module):\n",
        "    def __init__(self):\n",
        "        super(CNN, self).__init__()\n",
        "\n",
        "        #layer 1\n",
        "        self.conv1 = nn.Conv2d(in_channels=3, out_channels=32, kernel_size=3, stride=1, padding=1)\n",
        "        self.batchnorm1 = nn.BatchNorm2d(32)\n",
        "        self.relu = nn.ReLU()\n",
        "        self.conv2 = nn.Conv2d(in_channels=32, out_channels=32, kernel_size=3, stride=1, padding=1)\n",
        "        self.batchnorm2 = nn.BatchNorm2d(32)\n",
        "        self.relu = nn.ReLU()\n",
        "        self.maxpool1 = nn.MaxPool2d(kernel_size=2) #16\n",
        "\n",
        "        #layer 2\n",
        "        self.conv3 = nn.Conv2d(in_channels=32, out_channels=64, kernel_size=3, stride=1, padding=1)\n",
        "        self.batchnorm3 = nn.BatchNorm2d(64)\n",
        "        self.relu = nn.ReLU()\n",
        "        self.conv4 = nn.Conv2d(in_channels=64, out_channels=64, kernel_size=3, stride=1, padding=1)\n",
        "        self.batchnorm4 = nn.BatchNorm2d(64)\n",
        "        self.relu = nn.ReLU()\n",
        "        self.maxpool2 = nn.MaxPool2d(kernel_size=2) #8\n",
        "\n",
        "        #layer 3\n",
        "        # self.conv5 = nn.Conv2d(in_channels=64, out_channels=128, kernel_size=3, stride=1, padding=1)\n",
        "        # self.batchnorm5 = nn.BatchNorm2d(128)\n",
        "        # self.relu = nn.ReLU()\n",
        "        # self.conv6 = nn.Conv2d(in_channels=128, out_channels=128, kernel_size=3, stride=1, padding=1)\n",
        "        # self.batchnorm6 = nn.BatchNorm2d(128)\n",
        "        # self.relu = nn.ReLU()\n",
        "        # self.maxpool3 = nn.MaxPool2d(kernel_size=2) #4\n",
        "\n",
        "        #FC1\n",
        "        self.fc1 = nn.Linear(in_features=4096, out_features=512)\n",
        "        self.batchnorm_fc1 = nn.BatchNorm1d(512)\n",
        "        self.relu = nn.ReLU()\n",
        "        self.dropout_fc1 = nn.Dropout(p=0.5)\n",
        "\n",
        "        # self.fc2 = nn.Linear(in_features=1024, out_features=256)\n",
        "        # self.batchnorm_fc2 = nn.BatchNorm1d(256)\n",
        "        # self.relu = nn.ReLU()\n",
        "        # self.dropout_fc2 = nn.Dropout(p=0.5)\n",
        "\n",
        "        # self.fc3 = nn.Linear(in_features=256, out_features=64)\n",
        "        # self.batchnorm_fc3 = nn.BatchNorm1d(64)\n",
        "        # self.relu = nn.ReLU()\n",
        "        # self.dropout_fc3 = nn.Dropout(p=0.5)\n",
        "\n",
        "        self.fc4 = nn.Linear(in_features=512, out_features=2)\n",
        "\n",
        "\n",
        "    def forward(self, x):\n",
        "        #layer 1\n",
        "        out = self.conv1(x)\n",
        "        out = self.batchnorm1(out)\n",
        "        out = self.relu(out)\n",
        "        out = self.conv2(out)\n",
        "        out = self.batchnorm2(out)\n",
        "        out = self.relu(out)\n",
        "        out = self.maxpool1(out)\n",
        "\n",
        "        #layer 2\n",
        "        out = self.conv3(out)\n",
        "        out = self.batchnorm3(out)\n",
        "        out = self.relu(out)\n",
        "        out = self.conv4(out)\n",
        "        out = self.batchnorm4(out)\n",
        "        out = self.relu(out)\n",
        "        out = self.maxpool2(out)\n",
        "\n",
        "        #layer 3\n",
        "        # out = self.conv4(out)\n",
        "        # out = self.batchnorm4(out)\n",
        "        # out = self.relu(out)\n",
        "        # out = self.conv5(out)\n",
        "        # out = self.batchnorm5(out)\n",
        "        # out = self.relu(out)\n",
        "        # out = self.maxpool3(out)\n",
        "        \n",
        "        #Flatten()\n",
        "        out = out.view(-1, 4096)\n",
        "\n",
        "        #FC 1\n",
        "        out = self.fc1(out)\n",
        "        out = self.batchnorm_fc1(out)\n",
        "        out = self.relu(out)\n",
        "        out = self.dropout_fc1(out)\n",
        "\n",
        "        #FC 2\n",
        "        # out = self.fc2(out)\n",
        "        # out = self.batchnorm_fc2(out)\n",
        "        # out = self.relu(out)\n",
        "        # out = self.dropout_fc2(out)\n",
        "\n",
        "        # #FC 3\n",
        "        # out = self.fc3(out)\n",
        "        # out = self.batchnorm_fc3(out)\n",
        "        # out = self.relu(out)\n",
        "        # out = self.dropout_fc3(out)\n",
        "\n",
        "        #Out\n",
        "        out = self.fc4(out)\n",
        "\n",
        "        return out"
      ]
    },
    {
      "cell_type": "code",
      "execution_count": 8,
      "metadata": {
        "colab": {
          "base_uri": "https://localhost:8080/"
        },
        "id": "LcYN48vqyloT",
        "outputId": "21d9d08a-3166-4d3a-aa44-f64ab01dcb36"
      },
      "outputs": [
        {
          "name": "stdout",
          "output_type": "stream",
          "text": [
            "CNN(\n",
            "  (conv1): Conv2d(3, 32, kernel_size=(3, 3), stride=(1, 1), padding=(1, 1))\n",
            "  (batchnorm1): BatchNorm2d(32, eps=1e-05, momentum=0.1, affine=True, track_running_stats=True)\n",
            "  (relu): ReLU()\n",
            "  (conv2): Conv2d(32, 32, kernel_size=(3, 3), stride=(1, 1), padding=(1, 1))\n",
            "  (batchnorm2): BatchNorm2d(32, eps=1e-05, momentum=0.1, affine=True, track_running_stats=True)\n",
            "  (maxpool1): MaxPool2d(kernel_size=2, stride=2, padding=0, dilation=1, ceil_mode=False)\n",
            "  (conv3): Conv2d(32, 64, kernel_size=(3, 3), stride=(1, 1), padding=(1, 1))\n",
            "  (batchnorm3): BatchNorm2d(64, eps=1e-05, momentum=0.1, affine=True, track_running_stats=True)\n",
            "  (conv4): Conv2d(64, 64, kernel_size=(3, 3), stride=(1, 1), padding=(1, 1))\n",
            "  (batchnorm4): BatchNorm2d(64, eps=1e-05, momentum=0.1, affine=True, track_running_stats=True)\n",
            "  (maxpool2): MaxPool2d(kernel_size=2, stride=2, padding=0, dilation=1, ceil_mode=False)\n",
            "  (fc1): Linear(in_features=4096, out_features=512, bias=True)\n",
            "  (batchnorm_fc1): BatchNorm1d(512, eps=1e-05, momentum=0.1, affine=True, track_running_stats=True)\n",
            "  (dropout_fc1): Dropout(p=0.5, inplace=False)\n",
            "  (fc4): Linear(in_features=512, out_features=2, bias=True)\n",
            ")\n"
          ]
        }
      ],
      "source": [
        "model = CNN()\n",
        "model = model.cuda()\n",
        "\n",
        "#Sumary model\n",
        "print(model)"
      ]
    },
    {
      "cell_type": "code",
      "execution_count": 15,
      "metadata": {
        "id": "njzz8b0Qylsu"
      },
      "outputs": [],
      "source": [
        "#Using CrossEntropyLoss, optim  use SGD or Adam\n",
        "loss_f = nn.CrossEntropyLoss()\n",
        "# optimizer = torch.optim.SGD(model.parameters(), lr=0.01)\n",
        "optimizer = torch.optim.SGD(model.parameters(), lr=0.01, weight_decay=0.00001)\n",
        "# optimizer = torch.optim.Adam(model.parameters(), lr=0.01, weight_decay=0.0001)\n",
        "\n",
        "train_loss = []\n",
        "val_loss = []\n",
        "train_acc = []\n",
        "val_acc = []\n",
        "\n",
        "#Encoder label\n",
        "label2id = {\n",
        "    0: 'Close',\n",
        "    1: 'Open',\n",
        "}"
      ]
    },
    {
      "cell_type": "code",
      "execution_count": null,
      "metadata": {
        "colab": {
          "base_uri": "https://localhost:8080/"
        },
        "id": "iwtDgZFwylvk",
        "outputId": "24b37f09-14f7-4353-8903-5f0862dfba94"
      },
      "outputs": [
        {
          "name": "stdout",
          "output_type": "stream",
          "text": [
            "Epoch 1/12, Training Loss: 0.106, Training Accuracy: 97.038, Val Loss: 0.000, Val Accuracy: 64.464,,Time: 846.1217639446259s\n",
            "Epoch 2/12, Training Loss: 0.048, Training Accuracy: 98.570, Val Loss: 0.002, Val Accuracy: 99.464,,Time: 4.649125576019287s\n",
            "Epoch 3/12, Training Loss: 0.032, Training Accuracy: 99.285, Val Loss: 0.002, Val Accuracy: 99.464,,Time: 4.695134401321411s\n",
            "Epoch 4/12, Training Loss: 0.026, Training Accuracy: 99.489, Val Loss: 0.000, Val Accuracy: 99.821,,Time: 4.728639125823975s\n",
            "Epoch 5/12, Training Loss: 0.022, Training Accuracy: 99.132, Val Loss: 0.001, Val Accuracy: 99.464,,Time: 4.665008544921875s\n",
            "Epoch 6/12, Training Loss: 0.016, Training Accuracy: 99.540, Val Loss: 0.000, Val Accuracy: 99.643,,Time: 4.6431565284729s\n",
            "Epoch 7/12, Training Loss: 0.017, Training Accuracy: 99.540, Val Loss: 0.013, Val Accuracy: 57.500,,Time: 4.567249774932861s\n",
            "Epoch 8/12, Training Loss: 0.013, Training Accuracy: 99.642, Val Loss: 0.000, Val Accuracy: 99.643,,Time: 4.631937265396118s\n",
            "Epoch 9/12, Training Loss: 0.027, Training Accuracy: 99.132, Val Loss: 0.000, Val Accuracy: 50.000,,Time: 4.693413257598877s\n",
            "Epoch 10/12, Training Loss: 0.042, Training Accuracy: 99.183, Val Loss: 0.000, Val Accuracy: 95.357,,Time: 4.7184436321258545s\n",
            "Epoch 11/12, Training Loss: 0.030, Training Accuracy: 98.825, Val Loss: 0.000, Val Accuracy: 99.464,,Time: 4.673568964004517s\n",
            "Epoch 12/12, Training Loss: 0.017, Training Accuracy: 99.489, Val Loss: 0.000, Val Accuracy: 99.464,,Time: 4.613404989242554s\n"
          ]
        }
      ],
      "source": [
        "epochs = 12\n",
        "\n",
        "# Training\n",
        "for epoch in range(epochs): \n",
        "    \n",
        "    start = time.time()\n",
        "    \n",
        "    #Define\n",
        "    correct = 0\n",
        "    iterations = 0\n",
        "    iter_loss = 0.0\n",
        "    \n",
        "    model.train() #set model on traning mode             \n",
        "    \n",
        "    for i, (inputs, labels) in enumerate(train_load, 0):\n",
        "        inputs = Variable(inputs)\n",
        "        labels = Variable(labels)\n",
        "        \n",
        "        #Convert to Cuda() to use GPU\n",
        "        inputs = inputs.cuda()\n",
        "        labels = labels.cuda()\n",
        "        \n",
        "        optimizer.zero_grad()      \n",
        "        \n",
        "        #Forward\n",
        "        outputs = model(inputs)    \n",
        "        \n",
        "        #Calculating loss\n",
        "        loss = loss_f(outputs, labels)  \n",
        "        iter_loss += loss.item()    \n",
        "        \n",
        "        #Backpropagation\n",
        "        loss.backward()               \n",
        "        optimizer.step()                \n",
        "        \n",
        "        # Record the correct predictions for training data \n",
        "        predicted = torch.argmax(outputs, dim=1)\n",
        "        correct += (predicted == labels).sum()\n",
        "        iterations += 1\n",
        "    \n",
        "\n",
        "    train_loss.append(iter_loss/iterations)\n",
        "    train_acc.append((100 * correct / len(train_set)))\n",
        "   \n",
        "    #Eval on validation set\n",
        "    #Define\n",
        "    loss = 0.0\n",
        "    correct = 0\n",
        "    iterations = 0\n",
        "\n",
        "    model.eval() #set model on evaluation mode\n",
        "    \n",
        "    for i, (inputs, labels) in enumerate(val_load, 0):\n",
        "        # Convert torch tensor to Variable\n",
        "        inputs = Variable(inputs)\n",
        "        labels = Variable(labels)\n",
        "        \n",
        "        #To Cuda\n",
        "        inputs = inputs.cuda()\n",
        "        labels = labels.cuda()\n",
        "        \n",
        "        #Forward and Caculating loss\n",
        "        outputs = model(inputs)     \n",
        "        loss = loss_f(outputs, labels) \n",
        "        loss += loss.item()\n",
        "        \n",
        "        # Record the correct predictions for val data\n",
        "        predicted = torch.argmax(outputs, dim=1)\n",
        "        correct += (predicted == labels).sum()\n",
        "        iterations += 1\n",
        "\n",
        "    val_loss.append(loss/iterations)\n",
        "    val_acc.append((100 * correct / len(val_set)))\n",
        "\n",
        "    stop = time.time()\n",
        "    # if(val_acc[-1])\n",
        "    #Display acc, loss on training set and validation set\n",
        "    print ('Epoch {}/{}, Training Loss: {:.3f}, Training Accuracy: {:.3f}, Val Loss: {:.3f}, Val Accuracy: {:.3f},,Time: {}s'\n",
        "           .format(epoch+1, epochs, train_loss[-1], train_acc[-1], val_loss[-1], val_acc[-1],stop-start))"
      ]
    },
    {
      "cell_type": "code",
      "execution_count": null,
      "metadata": {
        "id": "OnPOl1WTylxv"
      },
      "outputs": [],
      "source": [
        "torch.save(model.state_dict(),'best_model.pth')"
      ]
    },
    {
      "cell_type": "code",
      "execution_count": 30,
      "metadata": {
        "colab": {
          "base_uri": "https://localhost:8080/"
        },
        "id": "QCGGh7vpyTXm",
        "outputId": "3c8507fd-3f7f-4988-ae20-ee1450d2e080"
      },
      "outputs": [
        {
          "data": {
            "text/plain": [
              "CNN(\n",
              "  (conv1): Conv2d(3, 32, kernel_size=(3, 3), stride=(1, 1), padding=(1, 1))\n",
              "  (batchnorm1): BatchNorm2d(32, eps=1e-05, momentum=0.1, affine=True, track_running_stats=True)\n",
              "  (relu): ReLU()\n",
              "  (conv2): Conv2d(32, 32, kernel_size=(3, 3), stride=(1, 1), padding=(1, 1))\n",
              "  (batchnorm2): BatchNorm2d(32, eps=1e-05, momentum=0.1, affine=True, track_running_stats=True)\n",
              "  (maxpool1): MaxPool2d(kernel_size=2, stride=2, padding=0, dilation=1, ceil_mode=False)\n",
              "  (conv3): Conv2d(32, 64, kernel_size=(3, 3), stride=(1, 1), padding=(1, 1))\n",
              "  (batchnorm3): BatchNorm2d(64, eps=1e-05, momentum=0.1, affine=True, track_running_stats=True)\n",
              "  (conv4): Conv2d(64, 64, kernel_size=(3, 3), stride=(1, 1), padding=(1, 1))\n",
              "  (batchnorm4): BatchNorm2d(64, eps=1e-05, momentum=0.1, affine=True, track_running_stats=True)\n",
              "  (maxpool2): MaxPool2d(kernel_size=2, stride=2, padding=0, dilation=1, ceil_mode=False)\n",
              "  (fc1): Linear(in_features=4096, out_features=512, bias=True)\n",
              "  (batchnorm_fc1): BatchNorm1d(512, eps=1e-05, momentum=0.1, affine=True, track_running_stats=True)\n",
              "  (dropout_fc1): Dropout(p=0.5, inplace=False)\n",
              "  (fc4): Linear(in_features=512, out_features=2, bias=True)\n",
              ")"
            ]
          },
          "execution_count": 30,
          "metadata": {},
          "output_type": "execute_result"
        }
      ],
      "source": [
        "#Load model\n",
        "model.load_state_dict(torch.load('best_model.pth'))\n",
        "model.to('cuda')\n",
        "model.eval()"
      ]
    },
    {
      "cell_type": "code",
      "execution_count": 3,
      "metadata": {
        "id": "QK3P3vOByl0N"
      },
      "outputs": [],
      "source": [
        "from google.colab.output import eval_js\n",
        "from IPython.display import display, Javascript, Image\n",
        "\n",
        "# JavaScript to properly create our live video stream using our webcam as input\n",
        "def video_stream():\n",
        "  js = Javascript('''\n",
        "    var video;\n",
        "    var div = null;\n",
        "    var stream;\n",
        "    var captureCanvas;\n",
        "    var imgElement;\n",
        "    var labelElement;\n",
        "    \n",
        "    var pendingResolve = null;\n",
        "    var shutdown = false;\n",
        "    \n",
        "    function removeDom() {\n",
        "       stream.getVideoTracks()[0].stop();\n",
        "       video.remove();\n",
        "       div.remove();\n",
        "       video = null;\n",
        "       div = null;\n",
        "       stream = null;\n",
        "       imgElement = null;\n",
        "       captureCanvas = null;\n",
        "       labelElement = null;\n",
        "    }\n",
        "    \n",
        "    function onAnimationFrame() {\n",
        "      if (!shutdown) {\n",
        "        window.requestAnimationFrame(onAnimationFrame);\n",
        "      }\n",
        "      if (pendingResolve) {\n",
        "        var result = \"\";\n",
        "        if (!shutdown) {\n",
        "          captureCanvas.getContext('2d').drawImage(video, 0, 0, 640, 480);\n",
        "          result = captureCanvas.toDataURL('image/jpeg', 0.8)\n",
        "        }\n",
        "        var lp = pendingResolve;\n",
        "        pendingResolve = null;\n",
        "        lp(result);\n",
        "      }\n",
        "    }\n",
        "    \n",
        "    async function createDom() {\n",
        "      if (div !== null) {\n",
        "        return stream;\n",
        "      }\n",
        "\n",
        "      div = document.createElement('div');\n",
        "      div.style.border = '2px solid black';\n",
        "      div.style.padding = '3px';\n",
        "      div.style.width = '100%';\n",
        "      div.style.maxWidth = '600px';\n",
        "      document.body.appendChild(div);\n",
        "      \n",
        "      const modelOut = document.createElement('div');\n",
        "      modelOut.innerHTML = \"<span>Status:</span>\";\n",
        "      labelElement = document.createElement('span');\n",
        "      labelElement.innerText = 'No data';\n",
        "      labelElement.style.fontWeight = 'bold';\n",
        "      modelOut.appendChild(labelElement);\n",
        "      div.appendChild(modelOut);\n",
        "           \n",
        "      video = document.createElement('video');\n",
        "      video.style.display = 'block';\n",
        "      video.width = div.clientWidth - 6;\n",
        "      video.setAttribute('playsinline', '');\n",
        "      video.onclick = () => { shutdown = true; };\n",
        "      stream = await navigator.mediaDevices.getUserMedia(\n",
        "          {video: { facingMode: \"environment\"}});\n",
        "      div.appendChild(video);\n",
        "\n",
        "      imgElement = document.createElement('img');\n",
        "      imgElement.style.position = 'absolute';\n",
        "      imgElement.style.zIndex = 1;\n",
        "      imgElement.onclick = () => { shutdown = true; };\n",
        "      div.appendChild(imgElement);\n",
        "      \n",
        "      const instruction = document.createElement('div');\n",
        "      instruction.innerHTML = \n",
        "          '<span style=\"color: red; font-weight: bold;\">' +\n",
        "          'When finished, click here or on the video to stop this demo</span>';\n",
        "      div.appendChild(instruction);\n",
        "      instruction.onclick = () => { shutdown = true; };\n",
        "      \n",
        "      video.srcObject = stream;\n",
        "      await video.play();\n",
        "\n",
        "      captureCanvas = document.createElement('canvas');\n",
        "      captureCanvas.width = 640; //video.videoWidth;\n",
        "      captureCanvas.height = 480; //video.videoHeight;\n",
        "      window.requestAnimationFrame(onAnimationFrame);\n",
        "      \n",
        "      return stream;\n",
        "    }\n",
        "    async function stream_frame(label, imgData) {\n",
        "      if (shutdown) {\n",
        "        removeDom();\n",
        "        shutdown = false;\n",
        "        return '';\n",
        "      }\n",
        "\n",
        "      var preCreate = Date.now();\n",
        "      stream = await createDom();\n",
        "      \n",
        "      var preShow = Date.now();\n",
        "      if (label != \"\") {\n",
        "        labelElement.innerHTML = label;\n",
        "      }\n",
        "            \n",
        "      if (imgData != \"\") {\n",
        "        var videoRect = video.getClientRects()[0];\n",
        "        imgElement.style.top = videoRect.top + \"px\";\n",
        "        imgElement.style.left = videoRect.left + \"px\";\n",
        "        imgElement.style.width = videoRect.width + \"px\";\n",
        "        imgElement.style.height = videoRect.height + \"px\";\n",
        "        imgElement.src = imgData;\n",
        "      }\n",
        "      \n",
        "      var preCapture = Date.now();\n",
        "      var result = await new Promise(function(resolve, reject) {\n",
        "        pendingResolve = resolve;\n",
        "      });\n",
        "      shutdown = false;\n",
        "      \n",
        "      return {'create': preShow - preCreate, \n",
        "              'show': preCapture - preShow, \n",
        "              'capture': Date.now() - preCapture,\n",
        "              'img': result};\n",
        "    }\n",
        "    ''')\n",
        "\n",
        "  display(js)\n",
        "  \n",
        "def video_frame(label, bbox):\n",
        "  data = eval_js('stream_frame(\"{}\", \"{}\")'.format(label, bbox))\n",
        "  return data\n",
        "\n",
        "# function to convert the JavaScript object into an OpenCV image\n",
        "def js_to_image(js_reply):\n",
        "  \"\"\"\n",
        "  Params:\n",
        "          js_reply: JavaScript object containing image from webcam\n",
        "  Returns:\n",
        "          img: OpenCV BGR image\n",
        "  \"\"\"\n",
        "  # decode base64 image\n",
        "  image_bytes = b64decode(js_reply.split(',')[1])\n",
        "  # convert bytes to numpy array\n",
        "  jpg_as_np = np.frombuffer(image_bytes, dtype=np.uint8)\n",
        "  # decode numpy array into OpenCV BGR image\n",
        "  img = cv2.imdecode(jpg_as_np, flags=1)\n",
        "\n",
        "  return img\n",
        "\n",
        "# function to convert OpenCV Rectangle bounding box image into base64 byte string to be overlayed on video stream\n",
        "def bbox_to_bytes(bbox_array):\n",
        "  \"\"\"\n",
        "  Params:\n",
        "          bbox_array: Numpy array (pixels) containing rectangle to overlay on video stream.\n",
        "  Returns:\n",
        "        bytes: Base64 image byte string\n",
        "  \"\"\"\n",
        "  # convert array into PIL image\n",
        "  bbox_PIL = PIL.Image.fromarray(bbox_array, 'RGBA')\n",
        "  iobuf = io.BytesIO()\n",
        "  # format bbox into png for return\n",
        "  bbox_PIL.save(iobuf, format='png')\n",
        "  # format return string\n",
        "  bbox_bytes = 'data:image/png;base64,{}'.format((str(b64encode(iobuf.getvalue()), 'utf-8')))\n",
        "\n",
        "  return bbox_bytes"
      ]
    },
    {
      "cell_type": "code",
      "execution_count": 51,
      "metadata": {
        "id": "qM2n7KOX2CdO"
      },
      "outputs": [],
      "source": [
        "import mediapipe as mp\n",
        "mp_face_mesh = mp.solutions.face_mesh\n",
        "\n",
        "def plot_landmark(img_base, facial_area_obj):\n",
        "    all_lm = []\n",
        "    img = img_base.copy()\n",
        "    img = cv2.cvtColor(img, cv2.COLOR_BGR2RGB)\n",
        "    landmarks = results.multi_face_landmarks[0]\n",
        "    for source_idx, target_idx in facial_area_obj:\n",
        "        source = landmarks.landmark[source_idx]\n",
        "        target = landmarks.landmark[target_idx]\n",
        "\n",
        "        relative_source = (int(img.shape[1] * source.x), int(img.shape[0] * source.y))\n",
        "        relative_target = (int(img.shape[1] * target.x), int(img.shape[0] * target.y))\n",
        "        all_lm.append(relative_source)\n",
        "        all_lm.append(relative_target)\n",
        "    \n",
        "    all_lm = sorted(all_lm, key = lambda a: (a[0]))\n",
        "    x_min, x_max = all_lm[0][0], all_lm[-1][0]\n",
        "    all_lm = sorted(all_lm, key = lambda a: (a[1]))\n",
        "    y_min, y_max =  all_lm[0][1], all_lm[-1][1]\n",
        "    \n",
        "    img_ = img[y_min:y_max+1,x_min:x_max+1]\n",
        "    return img_, [(x_min, y_min), (x_max,y_max)]"
      ]
    },
    {
      "cell_type": "code",
      "execution_count": 58,
      "metadata": {
        "id": "h-e6I2eL4AVm"
      },
      "outputs": [],
      "source": [
        "def predict(img, model):\n",
        "    img = transform_val(img)    \n",
        "    img = torch.unsqueeze(img, 0).to('cuda').float()    \n",
        "\n",
        "    with torch.no_grad():\n",
        "        output = model(img)\n",
        "    \n",
        "    output = F.softmax(output, dim = -1)\n",
        "    predicted = torch.argmax(output)\n",
        "    p = label2id[predicted.item()]\n",
        "    prob = torch.max(output).item()\n",
        "    \n",
        "    return  p, round(prob,2)"
      ]
    },
    {
      "cell_type": "code",
      "execution_count": 69,
      "metadata": {
        "colab": {
          "base_uri": "https://localhost:8080/",
          "height": 17
        },
        "id": "MDKHHg9Kyl2c",
        "outputId": "1b5f0318-7939-4407-ea98-84a240aa1fa4"
      },
      "outputs": [
        {
          "data": {
            "application/javascript": "\n    var video;\n    var div = null;\n    var stream;\n    var captureCanvas;\n    var imgElement;\n    var labelElement;\n    \n    var pendingResolve = null;\n    var shutdown = false;\n    \n    function removeDom() {\n       stream.getVideoTracks()[0].stop();\n       video.remove();\n       div.remove();\n       video = null;\n       div = null;\n       stream = null;\n       imgElement = null;\n       captureCanvas = null;\n       labelElement = null;\n    }\n    \n    function onAnimationFrame() {\n      if (!shutdown) {\n        window.requestAnimationFrame(onAnimationFrame);\n      }\n      if (pendingResolve) {\n        var result = \"\";\n        if (!shutdown) {\n          captureCanvas.getContext('2d').drawImage(video, 0, 0, 640, 480);\n          result = captureCanvas.toDataURL('image/jpeg', 0.8)\n        }\n        var lp = pendingResolve;\n        pendingResolve = null;\n        lp(result);\n      }\n    }\n    \n    async function createDom() {\n      if (div !== null) {\n        return stream;\n      }\n\n      div = document.createElement('div');\n      div.style.border = '2px solid black';\n      div.style.padding = '3px';\n      div.style.width = '100%';\n      div.style.maxWidth = '600px';\n      document.body.appendChild(div);\n      \n      const modelOut = document.createElement('div');\n      modelOut.innerHTML = \"<span>Status:</span>\";\n      labelElement = document.createElement('span');\n      labelElement.innerText = 'No data';\n      labelElement.style.fontWeight = 'bold';\n      modelOut.appendChild(labelElement);\n      div.appendChild(modelOut);\n           \n      video = document.createElement('video');\n      video.style.display = 'block';\n      video.width = div.clientWidth - 6;\n      video.setAttribute('playsinline', '');\n      video.onclick = () => { shutdown = true; };\n      stream = await navigator.mediaDevices.getUserMedia(\n          {video: { facingMode: \"environment\"}});\n      div.appendChild(video);\n\n      imgElement = document.createElement('img');\n      imgElement.style.position = 'absolute';\n      imgElement.style.zIndex = 1;\n      imgElement.onclick = () => { shutdown = true; };\n      div.appendChild(imgElement);\n      \n      const instruction = document.createElement('div');\n      instruction.innerHTML = \n          '<span style=\"color: red; font-weight: bold;\">' +\n          'When finished, click here or on the video to stop this demo</span>';\n      div.appendChild(instruction);\n      instruction.onclick = () => { shutdown = true; };\n      \n      video.srcObject = stream;\n      await video.play();\n\n      captureCanvas = document.createElement('canvas');\n      captureCanvas.width = 640; //video.videoWidth;\n      captureCanvas.height = 480; //video.videoHeight;\n      window.requestAnimationFrame(onAnimationFrame);\n      \n      return stream;\n    }\n    async function stream_frame(label, imgData) {\n      if (shutdown) {\n        removeDom();\n        shutdown = false;\n        return '';\n      }\n\n      var preCreate = Date.now();\n      stream = await createDom();\n      \n      var preShow = Date.now();\n      if (label != \"\") {\n        labelElement.innerHTML = label;\n      }\n            \n      if (imgData != \"\") {\n        var videoRect = video.getClientRects()[0];\n        imgElement.style.top = videoRect.top + \"px\";\n        imgElement.style.left = videoRect.left + \"px\";\n        imgElement.style.width = videoRect.width + \"px\";\n        imgElement.style.height = videoRect.height + \"px\";\n        imgElement.src = imgData;\n      }\n      \n      var preCapture = Date.now();\n      var result = await new Promise(function(resolve, reject) {\n        pendingResolve = resolve;\n      });\n      shutdown = false;\n      \n      return {'create': preShow - preCreate, \n              'show': preCapture - preShow, \n              'capture': Date.now() - preCapture,\n              'img': result};\n    }\n    ",
            "text/plain": [
              "<IPython.core.display.Javascript object>"
            ]
          },
          "metadata": {},
          "output_type": "display_data"
        }
      ],
      "source": [
        "import PIL\n",
        "import io\n",
        "from base64 import b64decode, b64encode\n",
        "import cv2\n",
        "# start streaming video from webcam\n",
        "video_stream()\n",
        "# label for video\n",
        "label_html = 'Capturing...'\n",
        "# initialze bounding box to empty\n",
        "bbox = ''\n",
        "count = 0 \n",
        "\n",
        "\n",
        "while True:\n",
        "    js_reply = video_frame(label_html, bbox)\n",
        "    if not js_reply:\n",
        "        break\n",
        "    # # create transparent overlay for bounding box\n",
        "    bbox_array = np.zeros([480,640,4], dtype=np.uint8)\n",
        "    # convert JS response to OpenCV Image\n",
        "    image = js_to_image(js_reply[\"img\"])\n",
        "\n",
        "    with mp_face_mesh.FaceMesh(static_image_mode=True, max_num_faces=1, refine_landmarks=True, min_detection_confidence=0.5) as face_mesh:\n",
        "      results = face_mesh.process(cv2.cvtColor(image, cv2.COLOR_BGR2RGB))\n",
        "\n",
        "    if(results.multi_face_landmarks):\n",
        "      # print(int(image.shape[1]/2), int(image.shape[0])-30)\n",
        "      l_eyebrow, coor1 = plot_landmark(image, mp_face_mesh.FACEMESH_LEFT_EYE)\n",
        "      # img = Image.fromarray(l_eyebrow)\n",
        "      # pred, prob = predict(img, model)\n",
        "      # pred = str(pred) + '|' + str(prob)\n",
        "      # cv2.putText(bbox_array, str(pred), (coor1[0][0], coor1[0][1]-10), cv2.FONT_HERSHEY_SIMPLEX, 0.5, (255,255,0), 1, cv2.LINE_AA)\n",
        "      cv2.rectangle(bbox_array, coor1[0], coor1[1], (255,0,0), 1)\n",
        "\n",
        "\n",
        "      r_eyebrow, coor2 = plot_landmark(image, mp_face_mesh.FACEMESH_RIGHT_EYE)\n",
        "      # img = Image.fromarray(r_eyebrow)\n",
        "      # pred, prob = predict(img, model)\n",
        "      # pred = str(pred) + '|' + str(prob)\n",
        "      # cv2.putText(bbox_array, str(pred), (coor2[0][0], coor2[0][1]-10), cv2.FONT_HERSHEY_SIMPLEX, 0.5, (255,255,0), 1, cv2.LINE_AA)\n",
        "      cv2.rectangle(bbox_array, coor2[0], coor2[1], (255,0,0), 1)\n",
        "\n",
        "    # bbox_array[:,:,3] = (bbox_array.max(axis = 2) > 0 ).astype(int) * 255\n",
        "    # convert overlay of bbox into bytes\n",
        "    bbox_bytes = bbox_to_bytes(bbox_array)\n",
        "    # update bbox so next frame gets new overlay\n",
        "    bbox = bbox_bytes"
      ]
    },
    {
      "cell_type": "code",
      "execution_count": 36,
      "metadata": {
        "id": "S6_ao2AhqQ8z"
      },
      "outputs": [],
      "source": [
        "import torch.nn.functional as F\n",
        "\n",
        "def predict(img, model):\n",
        "    img = Image.open(img)     \n",
        "    \n",
        "    img = transform_val(img)    \n",
        "    print(img.shape)\n",
        "    img = torch.unsqueeze(img, 0).to('cuda').float()    \n",
        "\n",
        "    with torch.no_grad():\n",
        "        output = model(img)\n",
        "    \n",
        "    output = F.softmax(output, dim = -1)\n",
        "    predicted = torch.argmax(output)\n",
        "    p = label2id[predicted.item()]\n",
        "    prob = torch.max(output).item()\n",
        "    \n",
        "    return  p, round(prob,2)"
      ]
    },
    {
      "cell_type": "code",
      "execution_count": 37,
      "metadata": {
        "colab": {
          "base_uri": "https://localhost:8080/"
        },
        "id": "m_gTDIJTqQ_V",
        "outputId": "9afae5d3-e2e5-40a0-8660-d34da188835f"
      },
      "outputs": [
        {
          "name": "stdout",
          "output_type": "stream",
          "text": [
            "torch.Size([3, 32, 32])\n",
            "('Open', 1.0)\n"
          ]
        }
      ],
      "source": [
        "print(predict('acv12.png', model))"
      ]
    }
  ],
  "metadata": {
    "accelerator": "GPU",
    "colab": {
      "collapsed_sections": [],
      "provenance": []
    },
    "kernelspec": {
      "display_name": "Python 3.8.5 ('sun2021')",
      "language": "python",
      "name": "python3"
    },
    "language_info": {
      "name": "python",
      "version": "3.7.4"
    },
    "vscode": {
      "interpreter": {
        "hash": "c6735232a274bbb495d357f699faa860bcad61ec5224b9f927c48aceea65dec8"
      }
    }
  },
  "nbformat": 4,
  "nbformat_minor": 0
}
